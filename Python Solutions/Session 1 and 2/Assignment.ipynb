{
  "nbformat": 4,
  "nbformat_minor": 0,
  "metadata": {
    "colab": {
      "provenance": []
    },
    "kernelspec": {
      "name": "python3",
      "display_name": "Python 3"
    },
    "language_info": {
      "name": "python"
    }
  },
  "cells": [
    {
      "cell_type": "code",
      "execution_count": null,
      "metadata": {
        "colab": {
          "base_uri": "https://localhost:8080/"
        },
        "id": "SDIWLNpnZNWo",
        "outputId": "4db6ae1a-f6a9-4046-d980-fb119a416d9c"
      },
      "outputs": [
        {
          "output_type": "stream",
          "name": "stdout",
          "text": [
            "Please Enter a number for it's factorial:7\n",
            "5040\n"
          ]
        }
      ],
      "source": [
        "#  Ques 1\n",
        "\n",
        "def factorial(n):\n",
        "  if(n==0):\n",
        "    return 1\n",
        "  elif(n<0):\n",
        "    return \"Invalid Input\"\n",
        "  else:\n",
        "    return n*factorial(n-1)\n",
        "\n",
        "x = int(input(\"Please Enter a number for it's factorial:\"))\n",
        "print(factorial(x))"
      ]
    },
    {
      "cell_type": "code",
      "source": [
        "# Ques 2\n",
        "x = [1,2,3,4]\n",
        "y = [3,4,5,6]\n",
        "\n",
        "k = []\n",
        "for i in x:\n",
        "  for j in y:\n",
        "    if(i == j):\n",
        "      k.append(i)\n",
        "\n",
        "print(k)"
      ],
      "metadata": {
        "colab": {
          "base_uri": "https://localhost:8080/"
        },
        "id": "-VXTkROQcGvc",
        "outputId": "d86074a8-d40d-4d18-868d-050ba66f49ad"
      },
      "execution_count": null,
      "outputs": [
        {
          "output_type": "stream",
          "name": "stdout",
          "text": [
            "[3, 4]\n"
          ]
        }
      ]
    },
    {
      "cell_type": "code",
      "source": [
        "# Ques 3\n",
        "x = [1,2,2,3,3,3,4]\n",
        "\n",
        "dict = {}\n",
        "for i in x:\n",
        "  if i in dict:\n",
        "    dict[i] += 1\n",
        "  else:\n",
        "    dict[i] = 1\n",
        "\n",
        "print(dict)"
      ],
      "metadata": {
        "colab": {
          "base_uri": "https://localhost:8080/"
        },
        "id": "-GmAmqLHrbKp",
        "outputId": "b5282e71-2109-426a-cec1-14569ed9f1b3"
      },
      "execution_count": null,
      "outputs": [
        {
          "output_type": "stream",
          "name": "stdout",
          "text": [
            "{1: 1, 2: 2, 3: 3, 4: 1}\n"
          ]
        }
      ]
    },
    {
      "cell_type": "code",
      "source": [
        "# Ques 4\n",
        "# method 1\n",
        "x = [1,2,2,3,4,3]\n",
        "\n",
        "# dict = {}\n",
        "# for i in x:\n",
        "#   dict[i] = i\n",
        "# k = []\n",
        "# for j in dict:\n",
        "#   k.append(dict[j])\n",
        "\n",
        "# method 2\n",
        "\n",
        "k = list(set(x))\n",
        "print(k)"
      ],
      "metadata": {
        "colab": {
          "base_uri": "https://localhost:8080/"
        },
        "id": "Mvl0Fd1nsk44",
        "outputId": "011e8009-925d-46dc-8492-4d0f1bb6c73a"
      },
      "execution_count": null,
      "outputs": [
        {
          "output_type": "stream",
          "name": "stdout",
          "text": [
            "[1, 2, 3, 4]\n"
          ]
        }
      ]
    },
    {
      "cell_type": "code",
      "source": [
        "# Ques 5\n",
        "n = 5\n",
        "r = 3\n",
        "\n",
        "def ncr(n,r):\n",
        "  return factorial(n)//(factorial(r)*factorial(n-r))\n",
        "\n",
        "print(ncr(n,r))"
      ],
      "metadata": {
        "colab": {
          "base_uri": "https://localhost:8080/"
        },
        "id": "GMgYAB-WuRCC",
        "outputId": "c8472712-ef50-4fba-e824-17f875c96845"
      },
      "execution_count": null,
      "outputs": [
        {
          "output_type": "stream",
          "name": "stdout",
          "text": [
            "10\n"
          ]
        }
      ]
    },
    {
      "cell_type": "code",
      "source": [
        "# Ques 6\n",
        "x = input(\"Please enter a string:\")\n",
        "\n",
        "def rev(x):\n",
        "  return x[::-1]\n",
        "\n",
        "print(rev(x))"
      ],
      "metadata": {
        "colab": {
          "base_uri": "https://localhost:8080/"
        },
        "id": "0WeFgtEbvkQK",
        "outputId": "54b284b4-c152-45ad-da7b-8f4cb3990647"
      },
      "execution_count": null,
      "outputs": [
        {
          "output_type": "stream",
          "name": "stdout",
          "text": [
            "Please enter a string:hello\n",
            "olleh\n"
          ]
        }
      ]
    },
    {
      "cell_type": "code",
      "source": [
        "# Ques 7\n",
        "x = int(input(\"Please enter a year:\"))\n",
        "\n",
        "if(x%4 == 0):\n",
        "  if(x%100 == 0):\n",
        "    if(x%400 == 0):\n",
        "      print(\"Leap Year:True\")\n",
        "    else:\n",
        "      print(\"Leap Year:False\")\n",
        "  else:\n",
        "    print(\"Leap Year:True\")\n",
        "else:\n",
        "  print(\"Leap Year:False\")"
      ],
      "metadata": {
        "colab": {
          "base_uri": "https://localhost:8080/"
        },
        "id": "nKJtCuGCweao",
        "outputId": "583defe2-e9ee-44b1-b79b-10290e77ac20"
      },
      "execution_count": null,
      "outputs": [
        {
          "output_type": "stream",
          "name": "stdout",
          "text": [
            "Please enter a year:2020\n",
            "Leap Year:True\n"
          ]
        }
      ]
    },
    {
      "cell_type": "code",
      "source": [
        "# Ques 8\n",
        "x = input(\"Please enter a string:\")\\\n",
        "\n",
        "def count_vowel(x):\n",
        "  temp = 0\n",
        "  for i in x:\n",
        "    if(i == 'a' or i == 'e' or i == 'i' or i == 'o' or i =='u'):\n",
        "       temp+=1\n",
        "  return temp\n",
        "print(count_vowel(x))"
      ],
      "metadata": {
        "colab": {
          "base_uri": "https://localhost:8080/"
        },
        "id": "nUw00_NzyPj2",
        "outputId": "774c840e-f1f3-4207-c6a1-5d91754716a9"
      },
      "execution_count": null,
      "outputs": [
        {
          "output_type": "stream",
          "name": "stdout",
          "text": [
            "Please enter a string:hello world\n",
            "3\n"
          ]
        }
      ]
    },
    {
      "cell_type": "code",
      "source": [
        "# Ques 9\n",
        "x = [1,2,3,4,5]\n",
        "\n",
        "def min_max(x):\n",
        "  return (max(x),min(x))\n",
        "\n",
        "print(min_max(x))"
      ],
      "metadata": {
        "colab": {
          "base_uri": "https://localhost:8080/"
        },
        "id": "dx5tyLHlz723",
        "outputId": "c1d1db37-8505-4265-bcf7-7bcaa22db951"
      },
      "execution_count": null,
      "outputs": [
        {
          "output_type": "stream",
          "name": "stdout",
          "text": [
            "(5, 1)\n"
          ]
        }
      ]
    },
    {
      "cell_type": "code",
      "source": [
        "# Ques 10\n",
        "x = [1,2,3,4,5]\n",
        "\n",
        "def sum_even(x):\n",
        "  sum = 0\n",
        "  for i in x:\n",
        "    if(i%2 == 0):\n",
        "      sum += i\n",
        "  return sum\n",
        "\n",
        "print(sum_even(x))"
      ],
      "metadata": {
        "colab": {
          "base_uri": "https://localhost:8080/"
        },
        "id": "aFF43IvFQdG8",
        "outputId": "d2b33d50-8a4e-4305-fb03-6f37341cba9d"
      },
      "execution_count": null,
      "outputs": [
        {
          "output_type": "stream",
          "name": "stdout",
          "text": [
            "6\n"
          ]
        }
      ]
    },
    {
      "cell_type": "code",
      "source": [
        "# Ques 11\n",
        "x = list(map(int,input(\"Please enter the list of numbers:\").split()))\n",
        "\n",
        "def second_largest(x):\n",
        "  maxnum = max(x)\n",
        "  secmaxnum = x[0]\n",
        "  for i in x:\n",
        "    if(i < maxnum and i >secmaxnum ):\n",
        "      secmaxnum = i\n",
        "\n",
        "  if(secmaxnum == maxnum):\n",
        "    return None\n",
        "  else:\n",
        "    return secmaxnum\n",
        "\n",
        "print(second_largest(x))\n"
      ],
      "metadata": {
        "colab": {
          "base_uri": "https://localhost:8080/"
        },
        "id": "B1-kNpX4RyPp",
        "outputId": "ae0de464-0313-4cb7-a7d6-c80649dc936e"
      },
      "execution_count": null,
      "outputs": [
        {
          "output_type": "stream",
          "name": "stdout",
          "text": [
            "Please enter the list of numbers:1 1 1\n",
            "None\n"
          ]
        }
      ]
    },
    {
      "cell_type": "code",
      "source": [
        "# Ques 12\n",
        "\n",
        "x = list(map(str,input(\"please enter the string:\").split()))\n",
        "\n",
        "def remove_space(x):\n",
        "  y=\"\"\n",
        "  for i in x:\n",
        "      y += i\n",
        "  return y\n",
        "print(remove_space(x))"
      ],
      "metadata": {
        "colab": {
          "base_uri": "https://localhost:8080/"
        },
        "id": "KXfLbRupR0dj",
        "outputId": "4ad6d349-696a-4f3a-d564-2067d10b81d7"
      },
      "execution_count": null,
      "outputs": [
        {
          "output_type": "stream",
          "name": "stdout",
          "text": [
            "please enter the string:hi my name is pranjay\n",
            "himynameispranjay\n"
          ]
        }
      ]
    },
    {
      "cell_type": "code",
      "source": [
        "# Ques 13\n",
        "x = list(map(str,input(\"please enter the string:\").split()))\n",
        "\n",
        "def len_of_max_word(x):\n",
        "  dict = {}\n",
        "  for i in x:\n",
        "    dict[i] = len(i)\n",
        "  return max(list(dict.values()))\n",
        "print(len_of_max_word(x))"
      ],
      "metadata": {
        "colab": {
          "base_uri": "https://localhost:8080/"
        },
        "id": "XU6LBVm6bblI",
        "outputId": "9565cdb1-5297-486a-adb3-4f0888e6247b"
      },
      "execution_count": null,
      "outputs": [
        {
          "output_type": "stream",
          "name": "stdout",
          "text": [
            "please enter the string:the quick brown fox\n",
            "5\n"
          ]
        }
      ]
    },
    {
      "cell_type": "code",
      "source": [
        "# Ques 14\n",
        "x = int(input(\"Please enter a number:\"))\n",
        "\n",
        "def multiply_table(x):\n",
        "  for i in range(1,11):\n",
        "    print(x,\" X \",i,\" = \", x*i)\n",
        "\n",
        "multiply_table(x)"
      ],
      "metadata": {
        "colab": {
          "base_uri": "https://localhost:8080/"
        },
        "id": "qdtkIkAvdHfu",
        "outputId": "b8a26d52-7011-4a9a-b952-07c9ed409c35"
      },
      "execution_count": null,
      "outputs": [
        {
          "output_type": "stream",
          "name": "stdout",
          "text": [
            "Please enter a number:3\n",
            "3  X  1  =  3\n",
            "3  X  2  =  6\n",
            "3  X  3  =  9\n",
            "3  X  4  =  12\n",
            "3  X  5  =  15\n",
            "3  X  6  =  18\n",
            "3  X  7  =  21\n",
            "3  X  8  =  24\n",
            "3  X  9  =  27\n",
            "3  X  10  =  30\n"
          ]
        }
      ]
    },
    {
      "cell_type": "code",
      "source": [
        "# Ques 15\n",
        "y = list(map(int,input(\"Please enter the list of numbers:\").split(\",\")))\n",
        "\n",
        "def prime_number(x):\n",
        "  if x < 2:\n",
        "    return False\n",
        "  for i in range(2,int(x**0.5)+1):\n",
        "    if x%i == 0:\n",
        "      return False\n",
        "  return True\n",
        "\n",
        "def prime_list(y):\n",
        "  z = []\n",
        "  for i in range(y[0],y[1]+1):\n",
        "    if(prime_number(i)):\n",
        "      z.append(i)\n",
        "  return z\n",
        "\n",
        "print(prime_list(y))"
      ],
      "metadata": {
        "colab": {
          "base_uri": "https://localhost:8080/"
        },
        "id": "QqqhgwXZfNFS",
        "outputId": "d79e2f77-bfc3-4f79-b1b7-555954fcb365"
      },
      "execution_count": null,
      "outputs": [
        {
          "output_type": "stream",
          "name": "stdout",
          "text": [
            "Please enter the list of numbers:10,20\n",
            "[11, 13, 17, 19]\n"
          ]
        }
      ]
    },
    {
      "cell_type": "code",
      "source": [],
      "metadata": {
        "id": "vDX7bynrfa5q"
      },
      "execution_count": null,
      "outputs": []
    }
  ]
}